{
 "cells": [
  {
   "cell_type": "code",
   "execution_count": 2,
   "metadata": {},
   "outputs": [],
   "source": [
    "import cv2\n",
    "import matplotlib.pyplot as plt\n",
    "import numpy as np\n",
    "\n",
    "\n",
    "image_path = '../data/IMG_5572.jpeg'\n",
    "img = cv2.imread(image_path)\n",
    "img_HSV = cv2.cvtColor(img, cv2.COLOR_BGR2HSV)"
   ]
  },
  {
   "cell_type": "code",
   "execution_count": 4,
   "metadata": {},
   "outputs": [
    {
     "data": {
      "text/plain": [
       "(1521, 1010, 3)"
      ]
     },
     "execution_count": 4,
     "metadata": {},
     "output_type": "execute_result"
    }
   ],
   "source": [
    "img_HSV.shape"
   ]
  },
  {
   "cell_type": "code",
   "execution_count": 3,
   "metadata": {},
   "outputs": [
    {
     "name": "stdout",
     "output_type": "stream",
     "text": [
      "(array([1.62491605e-02, 1.95823291e-02, 1.70127753e-03, 8.62421372e-04,\n",
      "       7.43147932e-03, 9.91113623e-03, 7.30958025e-05, 6.14586598e-06,\n",
      "       4.58212493e-06, 4.42938744e-05]), array([  0. ,  17.9,  35.8,  53.7,  71.6,  89.5, 107.4, 125.3, 143.2,\n",
      "       161.1, 179. ]))\n",
      "(array([2.04854294e-02, 7.39017631e-03, 2.63303973e-03, 1.02092353e-03,\n",
      "       2.47867460e-03, 1.11006576e-03, 5.76514317e-04, 2.30324924e-03,\n",
      "       1.19420458e-03, 2.34087685e-05]), array([  0. ,  25.5,  51. ,  76.5, 102. , 127.5, 153. , 178.5, 204. ,\n",
      "       229.5, 255. ]))\n",
      "(array([0.0001063 , 0.00062979, 0.00038314, 0.00079319, 0.00272481,\n",
      "       0.00173909, 0.00904362, 0.01304384, 0.00580629, 0.00494561]), array([  0. ,  25.5,  51. ,  76.5, 102. , 127.5, 153. , 178.5, 204. ,\n",
      "       229.5, 255. ]))\n"
     ]
    }
   ],
   "source": [
    "for i in range(img_HSV.shape[-1]):\n",
    "    data = img_HSV[:,:,i]\n",
    "    print(np.histogram(data, bins=10, density=True))"
   ]
  },
  {
   "cell_type": "code",
   "execution_count": null,
   "metadata": {},
   "outputs": [],
   "source": []
  }
 ],
 "metadata": {
  "kernelspec": {
   "display_name": "base",
   "language": "python",
   "name": "python3"
  },
  "language_info": {
   "codemirror_mode": {
    "name": "ipython",
    "version": 3
   },
   "file_extension": ".py",
   "mimetype": "text/x-python",
   "name": "python",
   "nbconvert_exporter": "python",
   "pygments_lexer": "ipython3",
   "version": "3.10.4"
  },
  "orig_nbformat": 4
 },
 "nbformat": 4,
 "nbformat_minor": 2
}
